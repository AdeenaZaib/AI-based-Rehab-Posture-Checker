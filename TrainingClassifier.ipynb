{
  "nbformat": 4,
  "nbformat_minor": 0,
  "metadata": {
    "colab": {
      "provenance": []
    },
    "kernelspec": {
      "name": "python3",
      "display_name": "Python 3"
    },
    "language_info": {
      "name": "python"
    }
  },
  "cells": [
    {
      "cell_type": "markdown",
      "source": [
        "SETTING UP KAGGLE"
      ],
      "metadata": {
        "id": "RSsa7-WuDATc"
      }
    },
    {
      "cell_type": "code",
      "execution_count": 1,
      "metadata": {
        "colab": {
          "base_uri": "https://localhost:8080/",
          "height": 92
        },
        "id": "kQLJB8jjC_M3",
        "outputId": "704dd561-0ef5-4ffc-a0fa-45ed5af022c9"
      },
      "outputs": [
        {
          "output_type": "display_data",
          "data": {
            "text/plain": [
              "<IPython.core.display.HTML object>"
            ],
            "text/html": [
              "\n",
              "     <input type=\"file\" id=\"files-83ad4be5-2b47-4710-aeab-6e48ecc516cf\" name=\"files[]\" multiple disabled\n",
              "        style=\"border:none\" />\n",
              "     <output id=\"result-83ad4be5-2b47-4710-aeab-6e48ecc516cf\">\n",
              "      Upload widget is only available when the cell has been executed in the\n",
              "      current browser session. Please rerun this cell to enable.\n",
              "      </output>\n",
              "      <script>// Copyright 2017 Google LLC\n",
              "//\n",
              "// Licensed under the Apache License, Version 2.0 (the \"License\");\n",
              "// you may not use this file except in compliance with the License.\n",
              "// You may obtain a copy of the License at\n",
              "//\n",
              "//      http://www.apache.org/licenses/LICENSE-2.0\n",
              "//\n",
              "// Unless required by applicable law or agreed to in writing, software\n",
              "// distributed under the License is distributed on an \"AS IS\" BASIS,\n",
              "// WITHOUT WARRANTIES OR CONDITIONS OF ANY KIND, either express or implied.\n",
              "// See the License for the specific language governing permissions and\n",
              "// limitations under the License.\n",
              "\n",
              "/**\n",
              " * @fileoverview Helpers for google.colab Python module.\n",
              " */\n",
              "(function(scope) {\n",
              "function span(text, styleAttributes = {}) {\n",
              "  const element = document.createElement('span');\n",
              "  element.textContent = text;\n",
              "  for (const key of Object.keys(styleAttributes)) {\n",
              "    element.style[key] = styleAttributes[key];\n",
              "  }\n",
              "  return element;\n",
              "}\n",
              "\n",
              "// Max number of bytes which will be uploaded at a time.\n",
              "const MAX_PAYLOAD_SIZE = 100 * 1024;\n",
              "\n",
              "function _uploadFiles(inputId, outputId) {\n",
              "  const steps = uploadFilesStep(inputId, outputId);\n",
              "  const outputElement = document.getElementById(outputId);\n",
              "  // Cache steps on the outputElement to make it available for the next call\n",
              "  // to uploadFilesContinue from Python.\n",
              "  outputElement.steps = steps;\n",
              "\n",
              "  return _uploadFilesContinue(outputId);\n",
              "}\n",
              "\n",
              "// This is roughly an async generator (not supported in the browser yet),\n",
              "// where there are multiple asynchronous steps and the Python side is going\n",
              "// to poll for completion of each step.\n",
              "// This uses a Promise to block the python side on completion of each step,\n",
              "// then passes the result of the previous step as the input to the next step.\n",
              "function _uploadFilesContinue(outputId) {\n",
              "  const outputElement = document.getElementById(outputId);\n",
              "  const steps = outputElement.steps;\n",
              "\n",
              "  const next = steps.next(outputElement.lastPromiseValue);\n",
              "  return Promise.resolve(next.value.promise).then((value) => {\n",
              "    // Cache the last promise value to make it available to the next\n",
              "    // step of the generator.\n",
              "    outputElement.lastPromiseValue = value;\n",
              "    return next.value.response;\n",
              "  });\n",
              "}\n",
              "\n",
              "/**\n",
              " * Generator function which is called between each async step of the upload\n",
              " * process.\n",
              " * @param {string} inputId Element ID of the input file picker element.\n",
              " * @param {string} outputId Element ID of the output display.\n",
              " * @return {!Iterable<!Object>} Iterable of next steps.\n",
              " */\n",
              "function* uploadFilesStep(inputId, outputId) {\n",
              "  const inputElement = document.getElementById(inputId);\n",
              "  inputElement.disabled = false;\n",
              "\n",
              "  const outputElement = document.getElementById(outputId);\n",
              "  outputElement.innerHTML = '';\n",
              "\n",
              "  const pickedPromise = new Promise((resolve) => {\n",
              "    inputElement.addEventListener('change', (e) => {\n",
              "      resolve(e.target.files);\n",
              "    });\n",
              "  });\n",
              "\n",
              "  const cancel = document.createElement('button');\n",
              "  inputElement.parentElement.appendChild(cancel);\n",
              "  cancel.textContent = 'Cancel upload';\n",
              "  const cancelPromise = new Promise((resolve) => {\n",
              "    cancel.onclick = () => {\n",
              "      resolve(null);\n",
              "    };\n",
              "  });\n",
              "\n",
              "  // Wait for the user to pick the files.\n",
              "  const files = yield {\n",
              "    promise: Promise.race([pickedPromise, cancelPromise]),\n",
              "    response: {\n",
              "      action: 'starting',\n",
              "    }\n",
              "  };\n",
              "\n",
              "  cancel.remove();\n",
              "\n",
              "  // Disable the input element since further picks are not allowed.\n",
              "  inputElement.disabled = true;\n",
              "\n",
              "  if (!files) {\n",
              "    return {\n",
              "      response: {\n",
              "        action: 'complete',\n",
              "      }\n",
              "    };\n",
              "  }\n",
              "\n",
              "  for (const file of files) {\n",
              "    const li = document.createElement('li');\n",
              "    li.append(span(file.name, {fontWeight: 'bold'}));\n",
              "    li.append(span(\n",
              "        `(${file.type || 'n/a'}) - ${file.size} bytes, ` +\n",
              "        `last modified: ${\n",
              "            file.lastModifiedDate ? file.lastModifiedDate.toLocaleDateString() :\n",
              "                                    'n/a'} - `));\n",
              "    const percent = span('0% done');\n",
              "    li.appendChild(percent);\n",
              "\n",
              "    outputElement.appendChild(li);\n",
              "\n",
              "    const fileDataPromise = new Promise((resolve) => {\n",
              "      const reader = new FileReader();\n",
              "      reader.onload = (e) => {\n",
              "        resolve(e.target.result);\n",
              "      };\n",
              "      reader.readAsArrayBuffer(file);\n",
              "    });\n",
              "    // Wait for the data to be ready.\n",
              "    let fileData = yield {\n",
              "      promise: fileDataPromise,\n",
              "      response: {\n",
              "        action: 'continue',\n",
              "      }\n",
              "    };\n",
              "\n",
              "    // Use a chunked sending to avoid message size limits. See b/62115660.\n",
              "    let position = 0;\n",
              "    do {\n",
              "      const length = Math.min(fileData.byteLength - position, MAX_PAYLOAD_SIZE);\n",
              "      const chunk = new Uint8Array(fileData, position, length);\n",
              "      position += length;\n",
              "\n",
              "      const base64 = btoa(String.fromCharCode.apply(null, chunk));\n",
              "      yield {\n",
              "        response: {\n",
              "          action: 'append',\n",
              "          file: file.name,\n",
              "          data: base64,\n",
              "        },\n",
              "      };\n",
              "\n",
              "      let percentDone = fileData.byteLength === 0 ?\n",
              "          100 :\n",
              "          Math.round((position / fileData.byteLength) * 100);\n",
              "      percent.textContent = `${percentDone}% done`;\n",
              "\n",
              "    } while (position < fileData.byteLength);\n",
              "  }\n",
              "\n",
              "  // All done.\n",
              "  yield {\n",
              "    response: {\n",
              "      action: 'complete',\n",
              "    }\n",
              "  };\n",
              "}\n",
              "\n",
              "scope.google = scope.google || {};\n",
              "scope.google.colab = scope.google.colab || {};\n",
              "scope.google.colab._files = {\n",
              "  _uploadFiles,\n",
              "  _uploadFilesContinue,\n",
              "};\n",
              "})(self);\n",
              "</script> "
            ]
          },
          "metadata": {}
        },
        {
          "output_type": "stream",
          "name": "stdout",
          "text": [
            "Saving kaggle.json to kaggle.json\n"
          ]
        },
        {
          "output_type": "execute_result",
          "data": {
            "text/plain": [
              "{'kaggle.json': b'{\"username\":\"adeenazaib\",\"key\":\"b124f04299db5e598cf76e84449ed930\"}'}"
            ]
          },
          "metadata": {},
          "execution_count": 1
        }
      ],
      "source": [
        "from google.colab import files\n",
        "files.upload()"
      ]
    },
    {
      "cell_type": "code",
      "source": [
        "import os\n",
        "import zipfile\n",
        "\n",
        "!mkdir -p ~/.kaggle\n",
        "!cp kaggle.json ~/.kaggle/\n",
        "!chmod 600 ~/.kaggle/kaggle.json\n",
        "\n",
        "!ls -la ~/.kaggle"
      ],
      "metadata": {
        "colab": {
          "base_uri": "https://localhost:8080/"
        },
        "id": "7byyJ-u8DGin",
        "outputId": "16e7fb17-11de-4f29-a8ea-561b2c3e4f68"
      },
      "execution_count": 2,
      "outputs": [
        {
          "output_type": "stream",
          "name": "stdout",
          "text": [
            "total 16\n",
            "drwxr-xr-x 2 root root 4096 Jun 24 10:27 .\n",
            "drwx------ 1 root root 4096 Jun 24 10:27 ..\n",
            "-rw------- 1 root root   66 Jun 24 10:27 kaggle.json\n"
          ]
        }
      ]
    },
    {
      "cell_type": "code",
      "source": [
        "!kaggle datasets download -d sulaimanmuhammed/wlu-rehabilitation-posture\n",
        "!unzip -q wlu-rehabilitation-posture.zip -d wlu_posture"
      ],
      "metadata": {
        "colab": {
          "base_uri": "https://localhost:8080/"
        },
        "id": "W_mxm-iQDHIW",
        "outputId": "11ef1f03-2b4a-485a-db2b-135123fa11e1"
      },
      "execution_count": 3,
      "outputs": [
        {
          "output_type": "stream",
          "name": "stdout",
          "text": [
            "Dataset URL: https://www.kaggle.com/datasets/sulaimanmuhammed/wlu-rehabilitation-posture\n",
            "License(s): MIT\n",
            "Downloading wlu-rehabilitation-posture.zip to /content\n",
            " 98% 818M/831M [00:07<00:00, 85.0MB/s]\n",
            "100% 831M/831M [00:07<00:00, 122MB/s] \n"
          ]
        }
      ]
    },
    {
      "cell_type": "markdown",
      "source": [
        "DATA PREPROCESSING AND EXTRACTION"
      ],
      "metadata": {
        "id": "l6j14qwfDLHU"
      }
    },
    {
      "cell_type": "code",
      "source": [
        "!pip install mediapipe\n",
        "!pip install opencv-python\n",
        "!pip install tqdm\n",
        "\n",
        "import os\n",
        "import cv2\n",
        "import mediapipe as mp\n",
        "import pandas as pd\n",
        "import numpy as np\n",
        "from tqdm import tqdm\n",
        "import matplotlib.pyplot as plt\n",
        "\n",
        "# Initialize MediaPipe Pose with better parameters\n",
        "mp_pose = mp.solutions.pose\n",
        "pose = mp_pose.Pose(\n",
        "    static_image_mode=False,\n",
        "    model_complexity=1,  # Balance between accuracy and speed\n",
        "    enable_segmentation=False,\n",
        "    min_detection_confidence=0.7,  # Higher confidence threshold\n",
        "    min_tracking_confidence=0.5\n",
        ")\n",
        "\n",
        "landmark_data = []\n",
        "\n",
        "def calculate_pose_features(landmarks_3d):\n",
        "    \"\"\"\n",
        "    Calculate meaningful pose features from raw landmarks\n",
        "    This is crucial for better classification\n",
        "    \"\"\"\n",
        "    # Convert to numpy array for easier manipulation\n",
        "    points = np.array(landmarks_3d).reshape(-1, 3)\n",
        "\n",
        "    features = []\n",
        "\n",
        "    # Add raw normalized coordinates (first 33*3 = 99 features)\n",
        "    features.extend(landmarks_3d)\n",
        "\n",
        "    # Calculate key angles for arm raise exercise\n",
        "    try:\n",
        "        # Left arm angle (shoulder-elbow-wrist)\n",
        "        left_shoulder = points[11]  # LEFT_SHOULDER\n",
        "        left_elbow = points[13]     # LEFT_ELBOW\n",
        "        left_wrist = points[15]     # LEFT_WRIST\n",
        "\n",
        "        # Right arm angle (shoulder-elbow-wrist)\n",
        "        right_shoulder = points[12] # RIGHT_SHOULDER\n",
        "        right_elbow = points[14]    # RIGHT_ELBOW\n",
        "        right_wrist = points[16]    # RIGHT_WRIST\n",
        "\n",
        "        # Calculate angles\n",
        "        left_arm_angle = calculate_angle(left_shoulder, left_elbow, left_wrist)\n",
        "        right_arm_angle = calculate_angle(right_shoulder, right_elbow, right_wrist)\n",
        "\n",
        "        # Shoulder elevation angles (relative to torso)\n",
        "        left_hip = points[23]   # LEFT_HIP\n",
        "        right_hip = points[24]  # RIGHT_HIP\n",
        "\n",
        "        # Calculate shoulder elevation relative to hip line\n",
        "        hip_midpoint = (left_hip + right_hip) / 2\n",
        "        left_shoulder_elevation = calculate_elevation_angle(hip_midpoint, left_shoulder)\n",
        "        right_shoulder_elevation = calculate_elevation_angle(hip_midpoint, right_shoulder)\n",
        "\n",
        "        # Add calculated features\n",
        "        features.extend([\n",
        "            left_arm_angle, right_arm_angle,\n",
        "            left_shoulder_elevation, right_shoulder_elevation,\n",
        "            abs(left_arm_angle - right_arm_angle),  # Symmetry measure\n",
        "            (left_shoulder_elevation + right_shoulder_elevation) / 2  # Average elevation\n",
        "        ])\n",
        "\n",
        "    except Exception as e:\n",
        "        # If angle calculation fails, add zeros\n",
        "        features.extend([0, 0, 0, 0, 0, 0])\n",
        "\n",
        "    return features\n",
        "\n",
        "def calculate_angle(a, b, c):\n",
        "    \"\"\"Calculate angle between three points\"\"\"\n",
        "    a, b, c = np.array(a), np.array(b), np.array(c)\n",
        "\n",
        "    radians = np.arctan2(c[1] - b[1], c[0] - b[0]) - np.arctan2(a[1] - b[1], a[0] - b[0])\n",
        "    angle = np.abs(radians * 180.0 / np.pi)\n",
        "\n",
        "    if angle > 180.0:\n",
        "        angle = 360 - angle\n",
        "\n",
        "    return angle\n",
        "\n",
        "def calculate_elevation_angle(reference_point, target_point):\n",
        "    \"\"\"Calculate elevation angle relative to reference point\"\"\"\n",
        "    ref, target = np.array(reference_point), np.array(target_point)\n",
        "\n",
        "    # Calculate angle from horizontal\n",
        "    dy = target[1] - ref[1]\n",
        "    dx = target[0] - ref[0]\n",
        "\n",
        "    angle = np.arctan2(dy, dx) * 180.0 / np.pi\n",
        "    return angle\n",
        "\n",
        "def is_pose_valid(landmarks):\n",
        "    \"\"\"Check if pose detection is reliable\"\"\"\n",
        "    # Check visibility and presence of key landmarks for arm raise\n",
        "    key_landmarks = [11, 12, 13, 14, 15, 16, 23, 24]  # Shoulders, elbows, wrists, hips\n",
        "\n",
        "    for idx in key_landmarks:\n",
        "        if idx < len(landmarks):\n",
        "            # Check if landmark is visible (MediaPipe provides visibility score)\n",
        "            # For basic validation, check if coordinates are reasonable\n",
        "            lm = landmarks[idx]\n",
        "            if lm.x < 0 or lm.x > 1 or lm.y < 0 or lm.y > 1:\n",
        "                return False\n",
        "        else:\n",
        "            return False\n",
        "\n",
        "    return True\n",
        "\n",
        "def process_video(video_path, label):\n",
        "    \"\"\"Process video with improved frame sampling and validation\"\"\"\n",
        "    cap = cv2.VideoCapture(video_path)\n",
        "\n",
        "    if not cap.isOpened():\n",
        "        print(f\"Error opening video: {video_path}\")\n",
        "        return\n",
        "\n",
        "    total_frames = int(cap.get(cv2.CAP_PROP_FRAME_COUNT))\n",
        "    fps = cap.get(cv2.CAP_PROP_FPS)\n",
        "\n",
        "    # Sample frames more intelligently (every 0.5 seconds instead of every frame)\n",
        "    frame_interval = max(1, int(fps * 0.5))  # Sample every 0.5 seconds\n",
        "\n",
        "    frame_count = 0\n",
        "    processed_count = 0\n",
        "    valid_poses = 0\n",
        "\n",
        "    while cap.isOpened():\n",
        "        ret, frame = cap.read()\n",
        "        if not ret:\n",
        "            break\n",
        "\n",
        "        # Skip frames based on interval\n",
        "        if frame_count % frame_interval != 0:\n",
        "            frame_count += 1\n",
        "            continue\n",
        "\n",
        "        # Resize frame for better processing (optional)\n",
        "        height, width = frame.shape[:2]\n",
        "        if width > 640:\n",
        "            scale = 640 / width\n",
        "            new_width = int(width * scale)\n",
        "            new_height = int(height * scale)\n",
        "            frame = cv2.resize(frame, (new_width, new_height))\n",
        "\n",
        "        # Convert color space\n",
        "        image = cv2.cvtColor(frame, cv2.COLOR_BGR2RGB)\n",
        "        image.flags.writeable = False\n",
        "\n",
        "        # Process with MediaPipe\n",
        "        results = pose.process(image)\n",
        "\n",
        "        if results.pose_landmarks:\n",
        "            # Validate pose quality\n",
        "            if is_pose_valid(results.pose_landmarks.landmark):\n",
        "                # Extract landmarks with confidence check\n",
        "                landmarks_3d = []\n",
        "                for lm in results.pose_landmarks.landmark:\n",
        "                    landmarks_3d.extend([lm.x, lm.y, lm.z])\n",
        "\n",
        "                # Calculate enhanced features\n",
        "                features = calculate_pose_features(landmarks_3d)\n",
        "                features.append(label)\n",
        "                landmark_data.append(features)\n",
        "\n",
        "                valid_poses += 1\n",
        "\n",
        "        processed_count += 1\n",
        "        frame_count += 1\n",
        "\n",
        "    cap.release()\n",
        "    print(f\"Processed {os.path.basename(video_path)}: {valid_poses} valid poses from {processed_count} frames\")\n",
        "\n",
        "def process_videos(base_path):\n",
        "    \"\"\"Process all videos with progress tracking\"\"\"\n",
        "    folders = {\n",
        "        \"Arm Raise Correct\": \"Correct\",\n",
        "        \"Arm Raise Incorrect\": \"Incorrect\"\n",
        "    }\n",
        "\n",
        "    total_stats = {\"Correct\": 0, \"Incorrect\": 0}\n",
        "\n",
        "    for folder, label in folders.items():\n",
        "        folder_path = os.path.join(base_path, folder)\n",
        "        if not os.path.exists(folder_path):\n",
        "            print(f\"Folder not found: {folder_path}\")\n",
        "            continue\n",
        "\n",
        "        video_files = [f for f in os.listdir(folder_path) if f.lower().endswith(('.mp4', '.avi', '.mov'))]\n",
        "        print(f\"\\nProcessing {len(video_files)} videos for {label}\")\n",
        "\n",
        "        initial_count = len(landmark_data)\n",
        "\n",
        "        for file in tqdm(video_files, desc=f\"Processing {label}\"):\n",
        "            video_path = os.path.join(folder_path, file)\n",
        "            process_video(video_path, label)\n",
        "\n",
        "        final_count = len(landmark_data)\n",
        "        added_samples = final_count - initial_count\n",
        "        total_stats[label] = added_samples\n",
        "\n",
        "        print(f\"Added {added_samples} samples for {label}\")\n",
        "\n",
        "    return total_stats\n",
        "\n",
        "# Process all videos\n",
        "print(\"Starting video processing...\")\n",
        "stats = process_videos(\"/content/wlu_posture/Blurred\")\n",
        "\n",
        "# Create enhanced column names\n",
        "base_columns = [f\"{axis}{i}\" for i in range(33) for axis in ['x', 'y', 'z']]\n",
        "angle_columns = ['left_arm_angle', 'right_arm_angle', 'left_shoulder_elevation',\n",
        "                'right_shoulder_elevation', 'arm_symmetry', 'avg_elevation']\n",
        "columns = base_columns + angle_columns + ['label']\n",
        "\n",
        "# Create DataFrame\n",
        "if landmark_data:\n",
        "    df = pd.DataFrame(landmark_data, columns=columns)\n",
        "\n",
        "    # Data validation and cleaning\n",
        "    print(f\"\\nDataset Statistics:\")\n",
        "    print(f\"Total samples: {len(df)}\")\n",
        "    print(f\"Label distribution:\")\n",
        "    print(df['label'].value_counts())\n",
        "\n",
        "    # Check for any problematic values\n",
        "    numeric_columns = df.select_dtypes(include=[np.number]).columns\n",
        "\n",
        "    print(f\"\\nData Quality Check:\")\n",
        "    print(f\"Missing values: {df[numeric_columns].isnull().sum().sum()}\")\n",
        "    print(f\"Infinite values: {np.isinf(df[numeric_columns]).sum().sum()}\")\n",
        "\n",
        "    # Remove any rows with invalid data\n",
        "    initial_len = len(df)\n",
        "    df = df.replace([np.inf, -np.inf], np.nan)\n",
        "    df = df.dropna()\n",
        "    final_len = len(df)\n",
        "\n",
        "    if initial_len != final_len:\n",
        "        print(f\"Removed {initial_len - final_len} rows with invalid data\")\n",
        "\n",
        "    # Balance check\n",
        "    label_counts = df['label'].value_counts()\n",
        "    if len(label_counts) > 1:\n",
        "        ratio = label_counts.max() / label_counts.min()\n",
        "        print(f\"Class imbalance ratio: {ratio:.2f}\")\n",
        "        if ratio > 3:\n",
        "            print(\"WARNING: Significant class imbalance detected!\")\n",
        "\n",
        "    # Save the dataset\n",
        "    df.to_csv(\"arm_raise_data.csv\", index=False)\n",
        "    print(f\"\\nCSV saved as arm_raise_data.csv\")\n",
        "    print(f\"Final dataset shape: {df.shape}\")\n",
        "\n",
        "    # Visualize some statistics\n",
        "    if len(df) > 0:\n",
        "        # Plot label distribution\n",
        "        plt.figure(figsize=(12, 4))\n",
        "\n",
        "        plt.subplot(1, 3, 1)\n",
        "        df['label'].value_counts().plot(kind='bar')\n",
        "        plt.title('Label Distribution')\n",
        "        plt.xticks(rotation=45)\n",
        "\n",
        "        plt.subplot(1, 3, 2)\n",
        "        plt.hist(df['left_arm_angle'], bins=30, alpha=0.7, label='Left Arm')\n",
        "        plt.hist(df['right_arm_angle'], bins=30, alpha=0.7, label='Right Arm')\n",
        "        plt.xlabel('Arm Angle (degrees)')\n",
        "        plt.ylabel('Frequency')\n",
        "        plt.title('Arm Angle Distribution')\n",
        "        plt.legend()\n",
        "\n",
        "        plt.subplot(1, 3, 3)\n",
        "        correct_data = df[df['label'] == 'Correct']\n",
        "        incorrect_data = df[df['label'] == 'Incorrect']\n",
        "\n",
        "        if len(correct_data) > 0 and len(incorrect_data) > 0:\n",
        "            plt.scatter(correct_data['left_arm_angle'], correct_data['right_arm_angle'],\n",
        "                       alpha=0.6, label='Correct', color='green')\n",
        "            plt.scatter(incorrect_data['left_arm_angle'], incorrect_data['right_arm_angle'],\n",
        "                       alpha=0.6, label='Incorrect', color='red')\n",
        "            plt.xlabel('Left Arm Angle')\n",
        "            plt.ylabel('Right Arm Angle')\n",
        "            plt.title('Arm Angles: Correct vs Incorrect')\n",
        "            plt.legend()\n",
        "\n",
        "        plt.tight_layout()\n",
        "        plt.show()\n",
        "\n",
        "else:\n",
        "    print(\"No valid landmark data was extracted. Check your video files and paths.\")\n",
        "\n",
        "# Cleanup\n",
        "pose.close()"
      ],
      "metadata": {
        "colab": {
          "base_uri": "https://localhost:8080/",
          "height": 1000
        },
        "id": "2lskjIIrDOAj",
        "outputId": "c53fbd0d-f007-429c-902f-0b6b39625e02"
      },
      "execution_count": 1,
      "outputs": [
        {
          "output_type": "stream",
          "name": "stdout",
          "text": [
            "Requirement already satisfied: mediapipe in /usr/local/lib/python3.11/dist-packages (0.10.21)\n",
            "Requirement already satisfied: absl-py in /usr/local/lib/python3.11/dist-packages (from mediapipe) (1.4.0)\n",
            "Requirement already satisfied: attrs>=19.1.0 in /usr/local/lib/python3.11/dist-packages (from mediapipe) (25.3.0)\n",
            "Requirement already satisfied: flatbuffers>=2.0 in /usr/local/lib/python3.11/dist-packages (from mediapipe) (25.2.10)\n",
            "Requirement already satisfied: jax in /usr/local/lib/python3.11/dist-packages (from mediapipe) (0.5.2)\n",
            "Requirement already satisfied: jaxlib in /usr/local/lib/python3.11/dist-packages (from mediapipe) (0.5.1)\n",
            "Requirement already satisfied: matplotlib in /usr/local/lib/python3.11/dist-packages (from mediapipe) (3.10.0)\n",
            "Requirement already satisfied: numpy<2 in /usr/local/lib/python3.11/dist-packages (from mediapipe) (1.26.4)\n",
            "Requirement already satisfied: opencv-contrib-python in /usr/local/lib/python3.11/dist-packages (from mediapipe) (4.11.0.86)\n",
            "Requirement already satisfied: protobuf<5,>=4.25.3 in /usr/local/lib/python3.11/dist-packages (from mediapipe) (4.25.8)\n",
            "Requirement already satisfied: sounddevice>=0.4.4 in /usr/local/lib/python3.11/dist-packages (from mediapipe) (0.5.2)\n",
            "Requirement already satisfied: sentencepiece in /usr/local/lib/python3.11/dist-packages (from mediapipe) (0.2.0)\n",
            "Requirement already satisfied: CFFI>=1.0 in /usr/local/lib/python3.11/dist-packages (from sounddevice>=0.4.4->mediapipe) (1.17.1)\n",
            "Requirement already satisfied: ml_dtypes>=0.4.0 in /usr/local/lib/python3.11/dist-packages (from jax->mediapipe) (0.4.1)\n",
            "Requirement already satisfied: opt_einsum in /usr/local/lib/python3.11/dist-packages (from jax->mediapipe) (3.4.0)\n",
            "Requirement already satisfied: scipy>=1.11.1 in /usr/local/lib/python3.11/dist-packages (from jax->mediapipe) (1.15.3)\n",
            "Requirement already satisfied: contourpy>=1.0.1 in /usr/local/lib/python3.11/dist-packages (from matplotlib->mediapipe) (1.3.2)\n",
            "Requirement already satisfied: cycler>=0.10 in /usr/local/lib/python3.11/dist-packages (from matplotlib->mediapipe) (0.12.1)\n",
            "Requirement already satisfied: fonttools>=4.22.0 in /usr/local/lib/python3.11/dist-packages (from matplotlib->mediapipe) (4.58.4)\n",
            "Requirement already satisfied: kiwisolver>=1.3.1 in /usr/local/lib/python3.11/dist-packages (from matplotlib->mediapipe) (1.4.8)\n",
            "Requirement already satisfied: packaging>=20.0 in /usr/local/lib/python3.11/dist-packages (from matplotlib->mediapipe) (24.2)\n",
            "Requirement already satisfied: pillow>=8 in /usr/local/lib/python3.11/dist-packages (from matplotlib->mediapipe) (11.2.1)\n",
            "Requirement already satisfied: pyparsing>=2.3.1 in /usr/local/lib/python3.11/dist-packages (from matplotlib->mediapipe) (3.2.3)\n",
            "Requirement already satisfied: python-dateutil>=2.7 in /usr/local/lib/python3.11/dist-packages (from matplotlib->mediapipe) (2.9.0.post0)\n",
            "Requirement already satisfied: pycparser in /usr/local/lib/python3.11/dist-packages (from CFFI>=1.0->sounddevice>=0.4.4->mediapipe) (2.22)\n",
            "Requirement already satisfied: six>=1.5 in /usr/local/lib/python3.11/dist-packages (from python-dateutil>=2.7->matplotlib->mediapipe) (1.17.0)\n",
            "Requirement already satisfied: opencv-python in /usr/local/lib/python3.11/dist-packages (4.11.0.86)\n",
            "Requirement already satisfied: numpy>=1.21.2 in /usr/local/lib/python3.11/dist-packages (from opencv-python) (1.26.4)\n",
            "Requirement already satisfied: tqdm in /usr/local/lib/python3.11/dist-packages (4.67.1)\n",
            "Starting video processing...\n",
            "\n",
            "Processing 51 videos for Correct\n"
          ]
        },
        {
          "output_type": "stream",
          "name": "stderr",
          "text": [
            "Processing Correct:   2%|▏         | 1/51 [00:00<00:33,  1.48it/s]"
          ]
        },
        {
          "output_type": "stream",
          "name": "stdout",
          "text": [
            "Processed 134.mp4: 9 valid poses from 9 frames\n"
          ]
        },
        {
          "output_type": "stream",
          "name": "stderr",
          "text": [
            "\rProcessing Correct:   4%|▍         | 2/51 [00:01<00:24,  2.01it/s]"
          ]
        },
        {
          "output_type": "stream",
          "name": "stdout",
          "text": [
            "Processed 115.mp4: 0 valid poses from 7 frames\n"
          ]
        },
        {
          "output_type": "stream",
          "name": "stderr",
          "text": [
            "\rProcessing Correct:   6%|▌         | 3/51 [00:01<00:21,  2.21it/s]"
          ]
        },
        {
          "output_type": "stream",
          "name": "stdout",
          "text": [
            "Processed 123.mp4: 0 valid poses from 10 frames\n"
          ]
        },
        {
          "output_type": "stream",
          "name": "stderr",
          "text": [
            "\rProcessing Correct:   8%|▊         | 4/51 [00:01<00:22,  2.09it/s]"
          ]
        },
        {
          "output_type": "stream",
          "name": "stdout",
          "text": [
            "Processed 129.mp4: 10 valid poses from 10 frames\n"
          ]
        },
        {
          "output_type": "stream",
          "name": "stderr",
          "text": [
            "\rProcessing Correct:  10%|▉         | 5/51 [00:02<00:22,  2.05it/s]"
          ]
        },
        {
          "output_type": "stream",
          "name": "stdout",
          "text": [
            "Processed 14.mp4: 9 valid poses from 9 frames\n"
          ]
        },
        {
          "output_type": "stream",
          "name": "stderr",
          "text": [
            "\rProcessing Correct:  12%|█▏        | 6/51 [00:03<00:28,  1.58it/s]"
          ]
        },
        {
          "output_type": "stream",
          "name": "stdout",
          "text": [
            "Processed 119.mp4: 9 valid poses from 10 frames\n"
          ]
        },
        {
          "output_type": "stream",
          "name": "stderr",
          "text": [
            "\rProcessing Correct:  14%|█▎        | 7/51 [00:04<00:31,  1.42it/s]"
          ]
        },
        {
          "output_type": "stream",
          "name": "stdout",
          "text": [
            "Processed 133.mp4: 8 valid poses from 9 frames\n"
          ]
        },
        {
          "output_type": "stream",
          "name": "stderr",
          "text": [
            "\rProcessing Correct:  16%|█▌        | 8/51 [00:04<00:28,  1.51it/s]"
          ]
        },
        {
          "output_type": "stream",
          "name": "stdout",
          "text": [
            "Processed 124.mp4: 0 valid poses from 8 frames\n"
          ]
        },
        {
          "output_type": "stream",
          "name": "stderr",
          "text": [
            "\rProcessing Correct:  18%|█▊        | 9/51 [00:05<00:27,  1.53it/s]"
          ]
        },
        {
          "output_type": "stream",
          "name": "stdout",
          "text": [
            "Processed 137.mp4: 10 valid poses from 10 frames\n"
          ]
        },
        {
          "output_type": "stream",
          "name": "stderr",
          "text": [
            "\rProcessing Correct:  20%|█▉        | 10/51 [00:06<00:28,  1.44it/s]"
          ]
        },
        {
          "output_type": "stream",
          "name": "stdout",
          "text": [
            "Processed 114.mp4: 0 valid poses from 14 frames\n"
          ]
        },
        {
          "output_type": "stream",
          "name": "stderr",
          "text": [
            "\rProcessing Correct:  22%|██▏       | 11/51 [00:06<00:27,  1.47it/s]"
          ]
        },
        {
          "output_type": "stream",
          "name": "stdout",
          "text": [
            "Processed 18.mp4: 10 valid poses from 12 frames\n"
          ]
        },
        {
          "output_type": "stream",
          "name": "stderr",
          "text": [
            "\rProcessing Correct:  24%|██▎       | 12/51 [00:07<00:25,  1.54it/s]"
          ]
        },
        {
          "output_type": "stream",
          "name": "stdout",
          "text": [
            "Processed 136.mp4: 9 valid poses from 10 frames\n"
          ]
        },
        {
          "output_type": "stream",
          "name": "stderr",
          "text": [
            "\rProcessing Correct:  25%|██▌       | 13/51 [00:07<00:23,  1.62it/s]"
          ]
        },
        {
          "output_type": "stream",
          "name": "stdout",
          "text": [
            "Processed 130.mp4: 9 valid poses from 10 frames\n"
          ]
        },
        {
          "output_type": "stream",
          "name": "stderr",
          "text": [
            "\rProcessing Correct:  27%|██▋       | 14/51 [00:08<00:23,  1.59it/s]"
          ]
        },
        {
          "output_type": "stream",
          "name": "stdout",
          "text": [
            "Processed 148.mp4: 14 valid poses from 16 frames\n"
          ]
        },
        {
          "output_type": "stream",
          "name": "stderr",
          "text": [
            "\rProcessing Correct:  29%|██▉       | 15/51 [00:09<00:22,  1.62it/s]"
          ]
        },
        {
          "output_type": "stream",
          "name": "stdout",
          "text": [
            "Processed 116.mp4: 8 valid poses from 10 frames\n"
          ]
        },
        {
          "output_type": "stream",
          "name": "stderr",
          "text": [
            "\rProcessing Correct:  31%|███▏      | 16/51 [00:10<00:27,  1.29it/s]"
          ]
        },
        {
          "output_type": "stream",
          "name": "stdout",
          "text": [
            "Processed 135.mp4: 17 valid poses from 20 frames\n"
          ]
        },
        {
          "output_type": "stream",
          "name": "stderr",
          "text": [
            "\rProcessing Correct:  33%|███▎      | 17/51 [00:10<00:24,  1.40it/s]"
          ]
        },
        {
          "output_type": "stream",
          "name": "stdout",
          "text": [
            "Processed 147.mp4: 7 valid poses from 13 frames\n"
          ]
        },
        {
          "output_type": "stream",
          "name": "stderr",
          "text": [
            "\rProcessing Correct:  35%|███▌      | 18/51 [00:11<00:22,  1.45it/s]"
          ]
        },
        {
          "output_type": "stream",
          "name": "stdout",
          "text": [
            "Processed 15.mp4: 2 valid poses from 11 frames\n"
          ]
        },
        {
          "output_type": "stream",
          "name": "stderr",
          "text": [
            "\rProcessing Correct:  37%|███▋      | 19/51 [00:12<00:20,  1.60it/s]"
          ]
        },
        {
          "output_type": "stream",
          "name": "stdout",
          "text": [
            "Processed 117.mp4: 7 valid poses from 8 frames\n"
          ]
        },
        {
          "output_type": "stream",
          "name": "stderr",
          "text": [
            "\rProcessing Correct:  39%|███▉      | 20/51 [00:12<00:17,  1.77it/s]"
          ]
        },
        {
          "output_type": "stream",
          "name": "stdout",
          "text": [
            "Processed 132.mp4: 7 valid poses from 8 frames\n"
          ]
        },
        {
          "output_type": "stream",
          "name": "stderr",
          "text": [
            "\rProcessing Correct:  41%|████      | 21/51 [00:13<00:16,  1.80it/s]"
          ]
        },
        {
          "output_type": "stream",
          "name": "stdout",
          "text": [
            "Processed 139.mp4: 10 valid poses from 10 frames\n"
          ]
        },
        {
          "output_type": "stream",
          "name": "stderr",
          "text": [
            "\rProcessing Correct:  43%|████▎     | 22/51 [00:13<00:14,  2.05it/s]"
          ]
        },
        {
          "output_type": "stream",
          "name": "stdout",
          "text": [
            "Processed 141.mp4: 7 valid poses from 7 frames\n"
          ]
        },
        {
          "output_type": "stream",
          "name": "stderr",
          "text": [
            "\rProcessing Correct:  45%|████▌     | 23/51 [00:13<00:13,  2.09it/s]"
          ]
        },
        {
          "output_type": "stream",
          "name": "stdout",
          "text": [
            "Processed 143.mp4: 10 valid poses from 10 frames\n"
          ]
        },
        {
          "output_type": "stream",
          "name": "stderr",
          "text": [
            "\rProcessing Correct:  47%|████▋     | 24/51 [00:14<00:13,  2.03it/s]"
          ]
        },
        {
          "output_type": "stream",
          "name": "stdout",
          "text": [
            "Processed 149.mp4: 6 valid poses from 11 frames\n"
          ]
        },
        {
          "output_type": "stream",
          "name": "stderr",
          "text": [
            "\rProcessing Correct:  49%|████▉     | 25/51 [00:14<00:13,  1.87it/s]"
          ]
        },
        {
          "output_type": "stream",
          "name": "stdout",
          "text": [
            "Processed 111.mp4: 7 valid poses from 12 frames\n"
          ]
        },
        {
          "output_type": "stream",
          "name": "stderr",
          "text": [
            "\rProcessing Correct:  51%|█████     | 26/51 [00:15<00:14,  1.77it/s]"
          ]
        },
        {
          "output_type": "stream",
          "name": "stdout",
          "text": [
            "Processed 126.mp4: 8 valid poses from 8 frames\n"
          ]
        },
        {
          "output_type": "stream",
          "name": "stderr",
          "text": [
            "\rProcessing Correct:  53%|█████▎    | 27/51 [00:16<00:13,  1.73it/s]"
          ]
        },
        {
          "output_type": "stream",
          "name": "stdout",
          "text": [
            "Processed 146.mp4: 9 valid poses from 9 frames\n"
          ]
        },
        {
          "output_type": "stream",
          "name": "stderr",
          "text": [
            "\rProcessing Correct:  55%|█████▍    | 28/51 [00:17<00:18,  1.27it/s]"
          ]
        },
        {
          "output_type": "stream",
          "name": "stdout",
          "text": [
            "Processed 12.mp4: 15 valid poses from 15 frames\n"
          ]
        },
        {
          "output_type": "stream",
          "name": "stderr",
          "text": [
            "\rProcessing Correct:  57%|█████▋    | 29/51 [00:17<00:14,  1.48it/s]"
          ]
        },
        {
          "output_type": "stream",
          "name": "stdout",
          "text": [
            "Processed 145.mp4: 9 valid poses from 9 frames\n"
          ]
        },
        {
          "output_type": "stream",
          "name": "stderr",
          "text": [
            "\rProcessing Correct:  59%|█████▉    | 30/51 [00:18<00:13,  1.54it/s]"
          ]
        },
        {
          "output_type": "stream",
          "name": "stdout",
          "text": [
            "Processed 112.mp4: 1 valid poses from 10 frames\n"
          ]
        },
        {
          "output_type": "stream",
          "name": "stderr",
          "text": [
            "\rProcessing Correct:  61%|██████    | 31/51 [00:18<00:11,  1.68it/s]"
          ]
        },
        {
          "output_type": "stream",
          "name": "stdout",
          "text": [
            "Processed 118.mp4: 7 valid poses from 8 frames\n"
          ]
        },
        {
          "output_type": "stream",
          "name": "stderr",
          "text": [
            "\rProcessing Correct:  63%|██████▎   | 32/51 [00:19<00:10,  1.78it/s]"
          ]
        },
        {
          "output_type": "stream",
          "name": "stdout",
          "text": [
            "Processed 125.mp4: 5 valid poses from 9 frames\n"
          ]
        },
        {
          "output_type": "stream",
          "name": "stderr",
          "text": [
            "\rProcessing Correct:  65%|██████▍   | 33/51 [00:19<00:09,  1.92it/s]"
          ]
        },
        {
          "output_type": "stream",
          "name": "stdout",
          "text": [
            "Processed 13.mp4: 8 valid poses from 8 frames\n"
          ]
        },
        {
          "output_type": "stream",
          "name": "stderr",
          "text": [
            "\rProcessing Correct:  67%|██████▋   | 34/51 [00:20<00:09,  1.82it/s]"
          ]
        },
        {
          "output_type": "stream",
          "name": "stdout",
          "text": [
            "Processed 16.mp4: 6 valid poses from 12 frames\n"
          ]
        },
        {
          "output_type": "stream",
          "name": "stderr",
          "text": [
            "\rProcessing Correct:  69%|██████▊   | 35/51 [00:20<00:07,  2.04it/s]"
          ]
        },
        {
          "output_type": "stream",
          "name": "stdout",
          "text": [
            "Processed 142.mp4: 0 valid poses from 8 frames\n"
          ]
        },
        {
          "output_type": "stream",
          "name": "stderr",
          "text": [
            "\rProcessing Correct:  71%|███████   | 36/51 [00:21<00:07,  1.93it/s]"
          ]
        },
        {
          "output_type": "stream",
          "name": "stdout",
          "text": [
            "Processed 122.mp4: 9 valid poses from 10 frames\n"
          ]
        },
        {
          "output_type": "stream",
          "name": "stderr",
          "text": [
            "\rProcessing Correct:  73%|███████▎  | 37/51 [00:21<00:07,  1.97it/s]"
          ]
        },
        {
          "output_type": "stream",
          "name": "stdout",
          "text": [
            "Processed 128.mp4: 10 valid poses from 10 frames\n"
          ]
        },
        {
          "output_type": "stream",
          "name": "stderr",
          "text": [
            "\rProcessing Correct:  75%|███████▍  | 38/51 [00:22<00:07,  1.75it/s]"
          ]
        },
        {
          "output_type": "stream",
          "name": "stdout",
          "text": [
            "Processed 11.mp4: 13 valid poses from 13 frames\n"
          ]
        },
        {
          "output_type": "stream",
          "name": "stderr",
          "text": [
            "\rProcessing Correct:  76%|███████▋  | 39/51 [00:23<00:07,  1.51it/s]"
          ]
        },
        {
          "output_type": "stream",
          "name": "stdout",
          "text": [
            "Processed 17.mp4: 7 valid poses from 12 frames\n"
          ]
        },
        {
          "output_type": "stream",
          "name": "stderr",
          "text": [
            "\rProcessing Correct:  78%|███████▊  | 40/51 [00:24<00:07,  1.43it/s]"
          ]
        },
        {
          "output_type": "stream",
          "name": "stdout",
          "text": [
            "Processed 120.mp4: 10 valid poses from 10 frames\n"
          ]
        },
        {
          "output_type": "stream",
          "name": "stderr",
          "text": [
            "\rProcessing Correct:  80%|████████  | 41/51 [00:25<00:07,  1.32it/s]"
          ]
        },
        {
          "output_type": "stream",
          "name": "stdout",
          "text": [
            "Processed 19.mp4: 5 valid poses from 11 frames\n"
          ]
        },
        {
          "output_type": "stream",
          "name": "stderr",
          "text": [
            "\rProcessing Correct:  82%|████████▏ | 42/51 [00:25<00:06,  1.50it/s]"
          ]
        },
        {
          "output_type": "stream",
          "name": "stdout",
          "text": [
            "Processed 144.mp4: 7 valid poses from 9 frames\n"
          ]
        },
        {
          "output_type": "stream",
          "name": "stderr",
          "text": [
            "\rProcessing Correct:  84%|████████▍ | 43/51 [00:26<00:05,  1.59it/s]"
          ]
        },
        {
          "output_type": "stream",
          "name": "stdout",
          "text": [
            "Processed 121.mp4: 7 valid poses from 10 frames\n"
          ]
        },
        {
          "output_type": "stream",
          "name": "stderr",
          "text": [
            "\rProcessing Correct:  86%|████████▋ | 44/51 [00:26<00:04,  1.71it/s]"
          ]
        },
        {
          "output_type": "stream",
          "name": "stdout",
          "text": [
            "Processed 131.mp4: 8 valid poses from 9 frames\n"
          ]
        },
        {
          "output_type": "stream",
          "name": "stderr",
          "text": [
            "\rProcessing Correct:  88%|████████▊ | 45/51 [00:27<00:03,  1.61it/s]"
          ]
        },
        {
          "output_type": "stream",
          "name": "stdout",
          "text": [
            "Processed 110.mp4: 7 valid poses from 12 frames\n"
          ]
        },
        {
          "output_type": "stream",
          "name": "stderr",
          "text": [
            "\rProcessing Correct:  90%|█████████ | 46/51 [00:28<00:03,  1.40it/s]"
          ]
        },
        {
          "output_type": "stream",
          "name": "stdout",
          "text": [
            "Processed 138.mp4: 11 valid poses from 11 frames\n"
          ]
        },
        {
          "output_type": "stream",
          "name": "stderr",
          "text": [
            "\rProcessing Correct:  92%|█████████▏| 47/51 [00:29<00:03,  1.12it/s]"
          ]
        },
        {
          "output_type": "stream",
          "name": "stdout",
          "text": [
            "Processed 113.mp4: 0 valid poses from 14 frames\n"
          ]
        },
        {
          "output_type": "stream",
          "name": "stderr",
          "text": [
            "\rProcessing Correct:  94%|█████████▍| 48/51 [00:30<00:02,  1.20it/s]"
          ]
        },
        {
          "output_type": "stream",
          "name": "stdout",
          "text": [
            "Processed 127.mp4: 9 valid poses from 12 frames\n"
          ]
        },
        {
          "output_type": "stream",
          "name": "stderr",
          "text": [
            "\rProcessing Correct:  96%|█████████▌| 49/51 [00:30<00:01,  1.46it/s]"
          ]
        },
        {
          "output_type": "stream",
          "name": "stdout",
          "text": [
            "Processed 151.mp4: 8 valid poses from 8 frames\n"
          ]
        },
        {
          "output_type": "stream",
          "name": "stderr",
          "text": [
            "\rProcessing Correct:  98%|█████████▊| 50/51 [00:31<00:00,  1.61it/s]"
          ]
        },
        {
          "output_type": "stream",
          "name": "stdout",
          "text": [
            "Processed 140.mp4: 9 valid poses from 9 frames\n"
          ]
        },
        {
          "output_type": "stream",
          "name": "stderr",
          "text": [
            "Processing Correct: 100%|██████████| 51/51 [00:31<00:00,  1.62it/s]\n"
          ]
        },
        {
          "output_type": "stream",
          "name": "stdout",
          "text": [
            "Processed 150.mp4: 1 valid poses from 11 frames\n",
            "Added 374 samples for Correct\n",
            "\n",
            "Processing 55 videos for Incorrect\n"
          ]
        },
        {
          "output_type": "stream",
          "name": "stderr",
          "text": [
            "Processing Incorrect:   4%|▎         | 2/55 [00:00<00:11,  4.72it/s]"
          ]
        },
        {
          "output_type": "stream",
          "name": "stdout",
          "text": [
            "Processed 037.mp4: 5 valid poses from 6 frames\n",
            "Processed 028.mp4: 0 valid poses from 3 frames\n"
          ]
        },
        {
          "output_type": "stream",
          "name": "stderr",
          "text": [
            "\rProcessing Incorrect:   5%|▌         | 3/55 [00:00<00:15,  3.45it/s]"
          ]
        },
        {
          "output_type": "stream",
          "name": "stdout",
          "text": [
            "Processed 050.mp4: 6 valid poses from 8 frames\n"
          ]
        },
        {
          "output_type": "stream",
          "name": "stderr",
          "text": [
            "\rProcessing Incorrect:   7%|▋         | 4/55 [00:01<00:22,  2.25it/s]"
          ]
        },
        {
          "output_type": "stream",
          "name": "stdout",
          "text": [
            "Processed 017.mp4: 10 valid poses from 13 frames\n"
          ]
        },
        {
          "output_type": "stream",
          "name": "stderr",
          "text": [
            "\rProcessing Incorrect:   9%|▉         | 5/55 [00:02<00:24,  2.06it/s]"
          ]
        },
        {
          "output_type": "stream",
          "name": "stdout",
          "text": [
            "Processed 013.mp4: 3 valid poses from 11 frames\n"
          ]
        },
        {
          "output_type": "stream",
          "name": "stderr",
          "text": [
            "\rProcessing Incorrect:  11%|█         | 6/55 [00:02<00:20,  2.40it/s]"
          ]
        },
        {
          "output_type": "stream",
          "name": "stdout",
          "text": [
            "Processed 036.mp4: 5 valid poses from 5 frames\n"
          ]
        },
        {
          "output_type": "stream",
          "name": "stderr",
          "text": [
            "\rProcessing Incorrect:  13%|█▎        | 7/55 [00:02<00:21,  2.27it/s]"
          ]
        },
        {
          "output_type": "stream",
          "name": "stdout",
          "text": [
            "Processed 07.mp4: 8 valid poses from 9 frames\n"
          ]
        },
        {
          "output_type": "stream",
          "name": "stderr",
          "text": [
            "\rProcessing Incorrect:  15%|█▍        | 8/55 [00:03<00:21,  2.19it/s]"
          ]
        },
        {
          "output_type": "stream",
          "name": "stdout",
          "text": [
            "Processed 055.mp4: 11 valid poses from 11 frames\n"
          ]
        },
        {
          "output_type": "stream",
          "name": "stderr",
          "text": [
            "\rProcessing Incorrect:  16%|█▋        | 9/55 [00:03<00:19,  2.38it/s]"
          ]
        },
        {
          "output_type": "stream",
          "name": "stdout",
          "text": [
            "Processed 035.mp4: 6 valid poses from 6 frames\n"
          ]
        },
        {
          "output_type": "stream",
          "name": "stderr",
          "text": [
            "\rProcessing Incorrect:  18%|█▊        | 10/55 [00:04<00:17,  2.52it/s]"
          ]
        },
        {
          "output_type": "stream",
          "name": "stdout",
          "text": [
            "Processed 034.mp4: 6 valid poses from 6 frames\n"
          ]
        },
        {
          "output_type": "stream",
          "name": "stderr",
          "text": [
            "\rProcessing Incorrect:  20%|██        | 11/55 [00:04<00:20,  2.15it/s]"
          ]
        },
        {
          "output_type": "stream",
          "name": "stdout",
          "text": [
            "Processed 010.mp4: 7 valid poses from 11 frames\n"
          ]
        },
        {
          "output_type": "stream",
          "name": "stderr",
          "text": [
            "\rProcessing Incorrect:  22%|██▏       | 12/55 [00:05<00:19,  2.23it/s]"
          ]
        },
        {
          "output_type": "stream",
          "name": "stdout",
          "text": [
            "Processed 043.mp4: 8 valid poses from 8 frames\n"
          ]
        },
        {
          "output_type": "stream",
          "name": "stderr",
          "text": [
            "\rProcessing Incorrect:  24%|██▎       | 13/55 [00:05<00:20,  2.05it/s]"
          ]
        },
        {
          "output_type": "stream",
          "name": "stdout",
          "text": [
            "Processed 011.mp4: 0 valid poses from 11 frames\n"
          ]
        },
        {
          "output_type": "stream",
          "name": "stderr",
          "text": [
            "\rProcessing Incorrect:  25%|██▌       | 14/55 [00:06<00:20,  2.03it/s]"
          ]
        },
        {
          "output_type": "stream",
          "name": "stdout",
          "text": [
            "Processed 012.mp4: 4 valid poses from 9 frames\n"
          ]
        },
        {
          "output_type": "stream",
          "name": "stderr",
          "text": [
            "\rProcessing Incorrect:  27%|██▋       | 15/55 [00:06<00:23,  1.72it/s]"
          ]
        },
        {
          "output_type": "stream",
          "name": "stdout",
          "text": [
            "Processed 020.mp4: 10 valid poses from 15 frames\n"
          ]
        },
        {
          "output_type": "stream",
          "name": "stderr",
          "text": [
            "\rProcessing Incorrect:  29%|██▉       | 16/55 [00:07<00:20,  1.92it/s]"
          ]
        },
        {
          "output_type": "stream",
          "name": "stdout",
          "text": [
            "Processed 032.mp4: 7 valid poses from 7 frames\n"
          ]
        },
        {
          "output_type": "stream",
          "name": "stderr",
          "text": [
            "\rProcessing Incorrect:  31%|███       | 17/55 [00:07<00:17,  2.12it/s]"
          ]
        },
        {
          "output_type": "stream",
          "name": "stdout",
          "text": [
            "Processed 041.mp4: 7 valid poses from 7 frames\n"
          ]
        },
        {
          "output_type": "stream",
          "name": "stderr",
          "text": [
            "\rProcessing Incorrect:  33%|███▎      | 18/55 [00:07<00:15,  2.34it/s]"
          ]
        },
        {
          "output_type": "stream",
          "name": "stdout",
          "text": [
            "Processed 029.mp4: 0 valid poses from 6 frames\n"
          ]
        },
        {
          "output_type": "stream",
          "name": "stderr",
          "text": [
            "\rProcessing Incorrect:  35%|███▍      | 19/55 [00:08<00:15,  2.26it/s]"
          ]
        },
        {
          "output_type": "stream",
          "name": "stdout",
          "text": [
            "Processed 038.mp4: 5 valid poses from 7 frames\n"
          ]
        },
        {
          "output_type": "stream",
          "name": "stderr",
          "text": [
            "\rProcessing Incorrect:  36%|███▋      | 20/55 [00:09<00:20,  1.73it/s]"
          ]
        },
        {
          "output_type": "stream",
          "name": "stdout",
          "text": [
            "Processed 014.mp4: 7 valid poses from 10 frames\n"
          ]
        },
        {
          "output_type": "stream",
          "name": "stderr",
          "text": [
            "\rProcessing Incorrect:  38%|███▊      | 21/55 [00:10<00:22,  1.51it/s]"
          ]
        },
        {
          "output_type": "stream",
          "name": "stdout",
          "text": [
            "Processed 08.mp4: 9 valid poses from 9 frames\n"
          ]
        },
        {
          "output_type": "stream",
          "name": "stderr",
          "text": [
            "\rProcessing Incorrect:  40%|████      | 22/55 [00:11<00:23,  1.42it/s]"
          ]
        },
        {
          "output_type": "stream",
          "name": "stdout",
          "text": [
            "Processed 01.mp4: 12 valid poses from 12 frames\n"
          ]
        },
        {
          "output_type": "stream",
          "name": "stderr",
          "text": [
            "\rProcessing Incorrect:  42%|████▏     | 23/55 [00:11<00:19,  1.66it/s]"
          ]
        },
        {
          "output_type": "stream",
          "name": "stdout",
          "text": [
            "Processed 049.mp4: 8 valid poses from 8 frames\n"
          ]
        },
        {
          "output_type": "stream",
          "name": "stderr",
          "text": [
            "\rProcessing Incorrect:  44%|████▎     | 24/55 [00:11<00:16,  1.91it/s]"
          ]
        },
        {
          "output_type": "stream",
          "name": "stdout",
          "text": [
            "Processed 045.mp4: 7 valid poses from 7 frames\n"
          ]
        },
        {
          "output_type": "stream",
          "name": "stderr",
          "text": [
            "\rProcessing Incorrect:  45%|████▌     | 25/55 [00:12<00:15,  2.00it/s]"
          ]
        },
        {
          "output_type": "stream",
          "name": "stdout",
          "text": [
            "Processed 09.mp4: 0 valid poses from 9 frames\n"
          ]
        },
        {
          "output_type": "stream",
          "name": "stderr",
          "text": [
            "\rProcessing Incorrect:  47%|████▋     | 26/55 [00:12<00:12,  2.29it/s]"
          ]
        },
        {
          "output_type": "stream",
          "name": "stdout",
          "text": [
            "Processed 03.mp4: 5 valid poses from 5 frames\n"
          ]
        },
        {
          "output_type": "stream",
          "name": "stderr",
          "text": [
            "\rProcessing Incorrect:  49%|████▉     | 27/55 [00:13<00:13,  2.05it/s]"
          ]
        },
        {
          "output_type": "stream",
          "name": "stdout",
          "text": [
            "Processed 053.mp4: 12 valid poses from 12 frames\n"
          ]
        },
        {
          "output_type": "stream",
          "name": "stderr",
          "text": [
            "\rProcessing Incorrect:  51%|█████     | 28/55 [00:13<00:10,  2.47it/s]"
          ]
        },
        {
          "output_type": "stream",
          "name": "stdout",
          "text": [
            "Processed 031.mp4: 4 valid poses from 4 frames\n"
          ]
        },
        {
          "output_type": "stream",
          "name": "stderr",
          "text": [
            "\rProcessing Incorrect:  53%|█████▎    | 29/55 [00:13<00:09,  2.63it/s]"
          ]
        },
        {
          "output_type": "stream",
          "name": "stdout",
          "text": [
            "Processed 048.mp4: 7 valid poses from 7 frames\n"
          ]
        },
        {
          "output_type": "stream",
          "name": "stderr",
          "text": [
            "\rProcessing Incorrect:  55%|█████▍    | 30/55 [00:13<00:09,  2.68it/s]"
          ]
        },
        {
          "output_type": "stream",
          "name": "stdout",
          "text": [
            "Processed 021.mp4: 6 valid poses from 6 frames\n"
          ]
        },
        {
          "output_type": "stream",
          "name": "stderr",
          "text": [
            "\rProcessing Incorrect:  56%|█████▋    | 31/55 [00:14<00:08,  2.85it/s]"
          ]
        },
        {
          "output_type": "stream",
          "name": "stdout",
          "text": [
            "Processed 033.mp4: 6 valid poses from 6 frames\n"
          ]
        },
        {
          "output_type": "stream",
          "name": "stderr",
          "text": [
            "\rProcessing Incorrect:  58%|█████▊    | 32/55 [00:14<00:10,  2.22it/s]"
          ]
        },
        {
          "output_type": "stream",
          "name": "stdout",
          "text": [
            "Processed 018.mp4: 7 valid poses from 12 frames\n"
          ]
        },
        {
          "output_type": "stream",
          "name": "stderr",
          "text": [
            "\rProcessing Incorrect:  60%|██████    | 33/55 [00:15<00:10,  2.03it/s]"
          ]
        },
        {
          "output_type": "stream",
          "name": "stdout",
          "text": [
            "Processed 015.mp4: 6 valid poses from 11 frames\n"
          ]
        },
        {
          "output_type": "stream",
          "name": "stderr",
          "text": [
            "\rProcessing Incorrect:  62%|██████▏   | 34/55 [00:16<00:10,  2.04it/s]"
          ]
        },
        {
          "output_type": "stream",
          "name": "stdout",
          "text": [
            "Processed 04.mp4: 6 valid poses from 9 frames\n"
          ]
        },
        {
          "output_type": "stream",
          "name": "stderr",
          "text": [
            "\rProcessing Incorrect:  64%|██████▎   | 35/55 [00:16<00:10,  1.98it/s]"
          ]
        },
        {
          "output_type": "stream",
          "name": "stdout",
          "text": [
            "Processed 052.mp4: 9 valid poses from 10 frames\n"
          ]
        },
        {
          "output_type": "stream",
          "name": "stderr",
          "text": [
            "\rProcessing Incorrect:  65%|██████▌   | 36/55 [00:16<00:08,  2.30it/s]"
          ]
        },
        {
          "output_type": "stream",
          "name": "stdout",
          "text": [
            "Processed 05.mp4: 5 valid poses from 5 frames\n"
          ]
        },
        {
          "output_type": "stream",
          "name": "stderr",
          "text": [
            "\rProcessing Incorrect:  67%|██████▋   | 37/55 [00:17<00:08,  2.01it/s]"
          ]
        },
        {
          "output_type": "stream",
          "name": "stdout",
          "text": [
            "Processed 054.mp4: 12 valid poses from 12 frames\n"
          ]
        },
        {
          "output_type": "stream",
          "name": "stderr",
          "text": [
            "\rProcessing Incorrect:  69%|██████▉   | 38/55 [00:17<00:07,  2.13it/s]"
          ]
        },
        {
          "output_type": "stream",
          "name": "stdout",
          "text": [
            "Processed 040.mp4: 8 valid poses from 8 frames\n"
          ]
        },
        {
          "output_type": "stream",
          "name": "stderr",
          "text": [
            "\rProcessing Incorrect:  71%|███████   | 39/55 [00:18<00:07,  2.06it/s]"
          ]
        },
        {
          "output_type": "stream",
          "name": "stdout",
          "text": [
            "Processed 051.mp4: 1 valid poses from 10 frames\n"
          ]
        },
        {
          "output_type": "stream",
          "name": "stderr",
          "text": [
            "\rProcessing Incorrect:  73%|███████▎  | 40/55 [00:18<00:06,  2.28it/s]"
          ]
        },
        {
          "output_type": "stream",
          "name": "stdout",
          "text": [
            "Processed 026.mp4: 0 valid poses from 7 frames\n"
          ]
        },
        {
          "output_type": "stream",
          "name": "stderr",
          "text": [
            "\rProcessing Incorrect:  75%|███████▍  | 41/55 [00:19<00:05,  2.40it/s]"
          ]
        },
        {
          "output_type": "stream",
          "name": "stdout",
          "text": [
            "Processed 047.mp4: 0 valid poses from 7 frames\n"
          ]
        },
        {
          "output_type": "stream",
          "name": "stderr",
          "text": [
            "\rProcessing Incorrect:  76%|███████▋  | 42/55 [00:19<00:06,  2.10it/s]"
          ]
        },
        {
          "output_type": "stream",
          "name": "stdout",
          "text": [
            "Processed 019.mp4: 10 valid poses from 11 frames\n"
          ]
        },
        {
          "output_type": "stream",
          "name": "stderr",
          "text": [
            "\rProcessing Incorrect:  78%|███████▊  | 43/55 [00:20<00:05,  2.30it/s]"
          ]
        },
        {
          "output_type": "stream",
          "name": "stdout",
          "text": [
            "Processed 030.mp4: 6 valid poses from 6 frames\n"
          ]
        },
        {
          "output_type": "stream",
          "name": "stderr",
          "text": [
            "\rProcessing Incorrect:  80%|████████  | 44/55 [00:20<00:04,  2.21it/s]"
          ]
        },
        {
          "output_type": "stream",
          "name": "stdout",
          "text": [
            "Processed 016.mp4: 6 valid poses from 9 frames\n"
          ]
        },
        {
          "output_type": "stream",
          "name": "stderr",
          "text": [
            "\rProcessing Incorrect:  82%|████████▏ | 45/55 [00:21<00:04,  2.02it/s]"
          ]
        },
        {
          "output_type": "stream",
          "name": "stdout",
          "text": [
            "Processed 024.mp4: 6 valid poses from 6 frames\n"
          ]
        },
        {
          "output_type": "stream",
          "name": "stderr",
          "text": [
            "\rProcessing Incorrect:  84%|████████▎ | 46/55 [00:22<00:05,  1.56it/s]"
          ]
        },
        {
          "output_type": "stream",
          "name": "stdout",
          "text": [
            "Processed 023.mp4: 10 valid poses from 10 frames\n"
          ]
        },
        {
          "output_type": "stream",
          "name": "stderr",
          "text": [
            "\rProcessing Incorrect:  85%|████████▌ | 47/55 [00:22<00:04,  1.62it/s]"
          ]
        },
        {
          "output_type": "stream",
          "name": "stdout",
          "text": [
            "Processed 025.mp4: 6 valid poses from 6 frames\n"
          ]
        },
        {
          "output_type": "stream",
          "name": "stderr",
          "text": [
            "\rProcessing Incorrect:  87%|████████▋ | 48/55 [00:23<00:03,  1.78it/s]"
          ]
        },
        {
          "output_type": "stream",
          "name": "stdout",
          "text": [
            "Processed 046.mp4: 7 valid poses from 7 frames\n"
          ]
        },
        {
          "output_type": "stream",
          "name": "stderr",
          "text": [
            "\rProcessing Incorrect:  89%|████████▉ | 49/55 [00:23<00:02,  2.06it/s]"
          ]
        },
        {
          "output_type": "stream",
          "name": "stdout",
          "text": [
            "Processed 044.mp4: 6 valid poses from 6 frames\n"
          ]
        },
        {
          "output_type": "stream",
          "name": "stderr",
          "text": [
            "\rProcessing Incorrect:  91%|█████████ | 50/55 [00:23<00:02,  2.33it/s]"
          ]
        },
        {
          "output_type": "stream",
          "name": "stdout",
          "text": [
            "Processed 039.mp4: 0 valid poses from 6 frames\n"
          ]
        },
        {
          "output_type": "stream",
          "name": "stderr",
          "text": [
            "\rProcessing Incorrect:  93%|█████████▎| 51/55 [00:24<00:01,  2.30it/s]"
          ]
        },
        {
          "output_type": "stream",
          "name": "stdout",
          "text": [
            "Processed 022.mp4: 7 valid poses from 7 frames\n"
          ]
        },
        {
          "output_type": "stream",
          "name": "stderr",
          "text": [
            "\rProcessing Incorrect:  95%|█████████▍| 52/55 [00:24<00:01,  2.03it/s]"
          ]
        },
        {
          "output_type": "stream",
          "name": "stdout",
          "text": [
            "Processed 02.mp4: 12 valid poses from 12 frames\n"
          ]
        },
        {
          "output_type": "stream",
          "name": "stderr",
          "text": [
            "\rProcessing Incorrect:  96%|█████████▋| 53/55 [00:25<00:00,  2.13it/s]"
          ]
        },
        {
          "output_type": "stream",
          "name": "stdout",
          "text": [
            "Processed 027.mp4: 8 valid poses from 8 frames\n"
          ]
        },
        {
          "output_type": "stream",
          "name": "stderr",
          "text": [
            "\rProcessing Incorrect:  98%|█████████▊| 54/55 [00:25<00:00,  2.44it/s]"
          ]
        },
        {
          "output_type": "stream",
          "name": "stdout",
          "text": [
            "Processed 06.mp4: 5 valid poses from 5 frames\n"
          ]
        },
        {
          "output_type": "stream",
          "name": "stderr",
          "text": [
            "Processing Incorrect: 100%|██████████| 55/55 [00:25<00:00,  2.12it/s]"
          ]
        },
        {
          "output_type": "stream",
          "name": "stdout",
          "text": [
            "Processed 042.mp4: 8 valid poses from 8 frames\n",
            "Added 342 samples for Incorrect\n",
            "\n",
            "Dataset Statistics:\n",
            "Total samples: 716\n",
            "Label distribution:\n",
            "label\n",
            "Correct      374\n",
            "Incorrect    342\n",
            "Name: count, dtype: int64\n",
            "\n",
            "Data Quality Check:\n",
            "Missing values: 0\n",
            "Infinite values: 0\n",
            "Class imbalance ratio: 1.09\n",
            "\n",
            "CSV saved as arm_raise_data.csv\n",
            "Final dataset shape: (716, 106)\n"
          ]
        },
        {
          "output_type": "stream",
          "name": "stderr",
          "text": [
            "\n"
          ]
        },
        {
          "output_type": "display_data",
          "data": {
            "text/plain": [
              "<Figure size 1200x400 with 3 Axes>"
            ],
            "image/png": "[encoded data removed]"
          },
          "metadata": {}
        }
      ]
    },
    {
      "cell_type": "code",
      "source": [
        "from google.colab import drive\n",
        "drive.mount('/content/drive')\n",
        "df.to_csv(\"/content/drive/MyDrive/CNN/meow/arm_raise_data.csv\", index=False)\n",
        "print(\"CSV saved to Google Drive: MyDrive/CNN/meow/arm_raise_data.csv\")"
      ],
      "metadata": {
        "colab": {
          "base_uri": "https://localhost:8080/"
        },
        "id": "szgmfiPzEWid",
        "outputId": "5729ee69-87b5-477b-cc2b-35fd990c392a"
      },
      "execution_count": 2,
      "outputs": [
        {
          "output_type": "stream",
          "name": "stdout",
          "text": [
            "Mounted at /content/drive\n",
            "CSV saved to Google Drive: MyDrive/CNN/meow/arm_raise_data.csv\n"
          ]
        }
      ]
    },
    {
      "cell_type": "markdown",
      "source": [
        "VISUALIZATION OF THE DATASET"
      ],
      "metadata": {
        "id": "D7YnN7igYIis"
      }
    },
    {
      "cell_type": "code",
      "source": [
        "import pandas as pd\n",
        "import matplotlib.pyplot as plt\n",
        "import mediapipe as mp\n",
        "\n",
        "# Load the data\n",
        "df = pd.read_csv(\"/content/drive/MyDrive/CNN/meow/arm_raise_data.csv\")\n",
        "\n",
        "# Split into two subsets\n",
        "df_correct = df[df[\"label\"] == \"Correct\"].reset_index(drop=True)\n",
        "df_incorrect = df[df[\"label\"] == \"Incorrect\"].reset_index(drop=True)\n",
        "\n",
        "# MediaPipe pose connections\n",
        "mp_pose = mp.solutions.pose\n",
        "POSE_CONNECTIONS = list(mp_pose.POSE_CONNECTIONS)\n",
        "\n",
        "# Plot a single pose\n",
        "def plot_pose(df, index, title, color):\n",
        "    x = [df[f'x{i}'][index] for i in range(33)]\n",
        "    y = [df[f'y{i}'][index] for i in range(33)]\n",
        "\n",
        "    plt.scatter(x, y, c=color)\n",
        "    for connection in POSE_CONNECTIONS:\n",
        "        start_idx, end_idx = connection\n",
        "        plt.plot([x[start_idx], x[end_idx]], [y[start_idx], y[end_idx]], 'gray')\n",
        "    plt.title(title)\n",
        "    plt.gca().invert_yaxis()\n",
        "    plt.axis('off')\n",
        "\n",
        "# 👯‍♂️ Plot side-by-side comparisons\n",
        "num_samples = min(5, len(df_correct), len(df_incorrect))\n",
        "\n",
        "for i in range(num_samples):\n",
        "    plt.figure(figsize=(10, 5))\n",
        "\n",
        "    # Left: Correct\n",
        "    plt.subplot(1, 2, 1)\n",
        "    plot_pose(df_correct, i, f\"Correct #{i}\", color='green')\n",
        "\n",
        "    # Right: Incorrect\n",
        "    plt.subplot(1, 2, 2)\n",
        "    plot_pose(df_incorrect, i, f\"Incorrect #{i}\", color='red')\n",
        "\n",
        "    plt.tight_layout()\n",
        "    plt.show()"
      ],
      "metadata": {
        "colab": {
          "base_uri": "https://localhost:8080/",
          "height": 1000
        },
        "id": "jzvFutwEbqHV",
        "outputId": "8286e48d-37b1-491f-dfca-a1a291ba84c0"
      },
      "execution_count": 5,
      "outputs": [
        {
          "output_type": "display_data",
          "data": {
            "text/plain": [
              "<Figure size 1000x500 with 2 Axes>"
            ],
            "image/png": "[encoded data removed]"
          },
          "metadata": {}
        },
        {
          "output_type": "display_data",
          "data": {
            "text/plain": [
              "<Figure size 1000x500 with 2 Axes>"
            ],
            "image/png": "[encoded data removed]"
          },
          "metadata": {}
        },
        {
          "output_type": "display_data",
          "data": {
            "text/plain": [
              "<Figure size 1000x500 with 2 Axes>"
            ],
            "image/png": "[encoded data removed]"
          },
          "metadata": {}
        },
        {
          "output_type": "display_data",
          "data": {
            "text/plain": [
              "<Figure size 1000x500 with 2 Axes>"
            ],
            "image/png": "[encoded data removed]"
          },
          "metadata": {}
        },
        {
          "output_type": "display_data",
          "data": {
            "text/plain": [
              "<Figure size 1000x500 with 2 Axes>"
            ],
            "image/png": "[encoded data removed]"
          },
          "metadata": {}
        }
      ]
    },
    {
      "cell_type": "markdown",
      "source": [
        "TRAINING THE CLASSIFIER"
      ],
      "metadata": {
        "id": "jViaQGIkEq6T"
      }
    },
    {
      "cell_type": "code",
      "source": [
        "import pandas as pd\n",
        "import numpy as np\n",
        "from sklearn.model_selection import train_test_split, cross_val_score\n",
        "from sklearn.preprocessing import LabelEncoder, StandardScaler\n",
        "from sklearn.ensemble import RandomForestClassifier\n",
        "from sklearn.metrics import classification_report, accuracy_score, confusion_matrix\n",
        "import seaborn as sns\n",
        "import matplotlib.pyplot as plt\n",
        "import joblib\n",
        "\n",
        "# Load and explore the data\n",
        "df = pd.read_csv(\"/content/drive/MyDrive/CNN/meow/arm_raise_data.csv\")\n",
        "print(\"Dataset shape:\", df.shape)\n",
        "print(\"\\nLabel distribution:\")\n",
        "print(df['label'].value_counts())\n",
        "print(f\"\\nLabel distribution percentage:\")\n",
        "print(df['label'].value_counts(normalize=True) * 100)\n",
        "\n",
        "# Check for missing values\n",
        "print(f\"\\nMissing values: {df.isnull().sum().sum()}\")\n",
        "\n",
        "# Display first few rows to understand data structure\n",
        "print(\"\\nFirst 5 rows:\")\n",
        "print(df.head())\n",
        "\n",
        "# Check data types\n",
        "print(f\"\\nData types:\")\n",
        "print(df.dtypes.value_counts())\n",
        "\n",
        "# Separate features and labels\n",
        "X = df.drop('label', axis=1)\n",
        "y = df['label']\n",
        "\n",
        "print(f\"\\nFeatures shape: {X.shape}\")\n",
        "print(f\"Features (first 5 columns): {X.columns[:5].tolist()}\")\n",
        "\n",
        "# Check for any non-numeric data in features\n",
        "print(f\"\\nNon-numeric columns in features: {X.select_dtypes(exclude=[np.number]).columns.tolist()}\")\n",
        "\n",
        "# Remove any non-numeric columns if they exist\n",
        "numeric_columns = X.select_dtypes(include=[np.number]).columns\n",
        "X = X[numeric_columns]\n",
        "print(f\"After selecting numeric columns: {X.shape}\")\n",
        "\n",
        "# Check for infinite or very large values\n",
        "print(f\"\\nInfinite values: {np.isinf(X).sum().sum()}\")\n",
        "print(f\"Very large values (>1e6): {(np.abs(X) > 1e6).sum().sum()}\")\n",
        "\n",
        "# Replace infinite values with NaN and then handle them\n",
        "X = X.replace([np.inf, -np.inf], np.nan)\n",
        "if X.isnull().sum().sum() > 0:\n",
        "    print(f\"NaN values after replacing inf: {X.isnull().sum().sum()}\")\n",
        "    # Fill NaN values with median of each column\n",
        "    X = X.fillna(X.median())\n",
        "    print(\"Filled NaN values with median\")\n",
        "\n",
        "# Encode labels: 'Correct' → 1, 'Incorrect' → 0\n",
        "le = LabelEncoder()\n",
        "y_encoded = le.fit_transform(y)\n",
        "\n",
        "print(f\"\\nLabel encoding:\")\n",
        "for i, label in enumerate(le.classes_):\n",
        "    print(f\"'{label}' → {i}\")\n",
        "\n",
        "# Check class balance after encoding\n",
        "unique, counts = np.unique(y_encoded, return_counts=True)\n",
        "print(f\"\\nEncoded label distribution: {dict(zip(unique, counts))}\")\n",
        "\n",
        "# Calculate class weights to handle imbalance if present\n",
        "class_ratio = counts[0] / counts[1] if len(counts) > 1 else 1\n",
        "print(f\"Class ratio (class 0 / class 1): {class_ratio:.2f}\")\n",
        "\n",
        "# Normalize features\n",
        "scaler = StandardScaler()\n",
        "X_scaled = scaler.fit_transform(X)\n",
        "\n",
        "# Check for any remaining issues in scaled data\n",
        "print(f\"\\nScaled data statistics:\")\n",
        "print(f\"Mean: {np.mean(X_scaled):.6f}\")\n",
        "print(f\"Std: {np.std(X_scaled):.6f}\")\n",
        "print(f\"Min: {np.min(X_scaled):.6f}\")\n",
        "print(f\"Max: {np.max(X_scaled):.6f}\")\n",
        "\n",
        "# Train-test split with stratification\n",
        "X_train, X_test, y_train, y_test = train_test_split(\n",
        "    X_scaled, y_encoded, test_size=0.2, random_state=42, stratify=y_encoded\n",
        ")\n",
        "\n",
        "print(f\"\\nTrain set size: {X_train.shape[0]}\")\n",
        "print(f\"Test set size: {X_test.shape[0]}\")\n",
        "print(f\"Train label distribution: {np.bincount(y_train)}\")\n",
        "print(f\"Test label distribution: {np.bincount(y_test)}\")\n",
        "\n",
        "# Train the classifier with class balancing\n",
        "# Use balanced class weights to handle any class imbalance\n",
        "clf = RandomForestClassifier(\n",
        "    n_estimators=200,  # More trees for better performance\n",
        "    max_depth=10,      # Prevent overfitting\n",
        "    min_samples_split=5,\n",
        "    min_samples_leaf=2,\n",
        "    class_weight='balanced',  # Handle class imbalance\n",
        "    random_state=42,\n",
        "    n_jobs=-1  # Use all available cores\n",
        ")\n",
        "\n",
        "print(\"\\nTraining the classifier...\")\n",
        "clf.fit(X_train, y_train)\n",
        "\n",
        "# Cross-validation to check for overfitting\n",
        "cv_scores = cross_val_score(clf, X_train, y_train, cv=5, scoring='accuracy')\n",
        "print(f\"\\nCross-validation scores: {cv_scores}\")\n",
        "print(f\"Mean CV accuracy: {cv_scores.mean():.4f} (+/- {cv_scores.std() * 2:.4f})\")\n",
        "\n",
        "# Predict on test set\n",
        "y_pred = clf.predict(X_test)\n",
        "y_pred_proba = clf.predict_proba(X_test)\n",
        "\n",
        "# Calculate accuracy\n",
        "accuracy = accuracy_score(y_test, y_pred)\n",
        "print(f\"\\nTest Accuracy: {accuracy:.4f}\")\n",
        "\n",
        "# Detailed classification report\n",
        "print(\"\\nClassification Report:\")\n",
        "target_names = ['Incorrect', 'Correct'] if le.classes_[0] == 'Incorrect' else ['Correct', 'Incorrect']\n",
        "print(classification_report(y_test, y_pred, target_names=target_names))\n",
        "\n",
        "# Confusion Matrix\n",
        "cm = confusion_matrix(y_test, y_pred)\n",
        "print(\"\\nConfusion Matrix:\")\n",
        "print(cm)\n",
        "\n",
        "# Plot confusion matrix\n",
        "plt.figure(figsize=(8, 6))\n",
        "sns.heatmap(cm, annot=True, fmt='d', cmap='Blues',\n",
        "            xticklabels=target_names, yticklabels=target_names)\n",
        "plt.title('Confusion Matrix')\n",
        "plt.xlabel('Predicted')\n",
        "plt.ylabel('Actual')\n",
        "plt.show()\n",
        "\n",
        "# Feature importance\n",
        "feature_importance = clf.feature_importances_\n",
        "top_features_idx = np.argsort(feature_importance)[-20:]  # Top 20 features\n",
        "top_features = [X.columns[i] for i in top_features_idx]\n",
        "top_importance = feature_importance[top_features_idx]\n",
        "\n",
        "plt.figure(figsize=(10, 8))\n",
        "plt.barh(range(len(top_features)), top_importance)\n",
        "plt.yticks(range(len(top_features)), top_features)\n",
        "plt.xlabel('Feature Importance')\n",
        "plt.title('Top 20 Most Important Features')\n",
        "plt.tight_layout()\n",
        "plt.show()\n",
        "\n",
        "# Analyze prediction probabilities\n",
        "print(f\"\\nPrediction Probability Analysis:\")\n",
        "print(f\"Mean probability for class 0: {y_pred_proba[:, 0].mean():.4f}\")\n",
        "print(f\"Mean probability for class 1: {y_pred_proba[:, 1].mean():.4f}\")\n",
        "\n",
        "# Check for predictions with low confidence (close to 0.5)\n",
        "low_confidence_mask = np.abs(y_pred_proba[:, 1] - 0.5) < 0.1  # Within 0.1 of 0.5\n",
        "low_confidence_count = low_confidence_mask.sum()\n",
        "print(f\"Low confidence predictions (prob between 0.4-0.6): {low_confidence_count}/{len(y_test)}\")\n",
        "\n",
        "# Analyze misclassified samples\n",
        "misclassified_mask = y_test != y_pred\n",
        "misclassified_count = misclassified_mask.sum()\n",
        "print(f\"\\nMisclassified samples: {misclassified_count}/{len(y_test)}\")\n",
        "\n",
        "if misclassified_count > 0:\n",
        "    print(\"Misclassified sample probabilities:\")\n",
        "    misclassified_probs = y_pred_proba[misclassified_mask]\n",
        "    print(f\"Mean probability of misclassified samples: {misclassified_probs[:, 1].mean():.4f}\")\n",
        "\n",
        "    # Show some misclassified examples\n",
        "    misclassified_indices = np.where(misclassified_mask)[0][:5]  # First 5\n",
        "    print(\"\\nFirst 5 misclassified samples:\")\n",
        "    for idx in misclassified_indices:\n",
        "        actual_label = le.inverse_transform([y_test[idx]])[0]\n",
        "        pred_label = le.inverse_transform([y_pred[idx]])[0]\n",
        "        prob = y_pred_proba[idx, 1]\n",
        "        print(f\"Index {idx}: Actual={actual_label}, Predicted={pred_label}, Prob={prob:.4f}\")\n",
        "\n",
        "# Save the trained model and scaler\n",
        "print(\"\\nSaving model and scaler...\")\n",
        "joblib.dump(clf, 'posture_classifier.pkl')\n",
        "joblib.dump(scaler, 'posture_scaler.pkl')\n",
        "joblib.dump(le, 'label_encoder.pkl')\n",
        "print(\"Model saved successfully!\")\n",
        "\n",
        "# Model performance summary\n",
        "print(f\"\\n{'='*50}\")\n",
        "print(\"MODEL PERFORMANCE SUMMARY\")\n",
        "print(f\"{'='*50}\")\n",
        "print(f\"Test Accuracy: {accuracy:.4f}\")\n",
        "print(f\"Cross-validation Accuracy: {cv_scores.mean():.4f} (+/- {cv_scores.std() * 2:.4f})\")\n",
        "print(f\"Total samples: {len(df)}\")\n",
        "print(f\"Features used: {X.shape[1]}\")\n",
        "print(f\"Class distribution: {dict(zip(le.classes_, np.bincount(y_encoded)))}\")\n",
        "print(f\"Low confidence predictions: {low_confidence_count}/{len(y_test)} ({low_confidence_count/len(y_test)*100:.1f}%)\")\n",
        "print(f\"{'='*50}\")"
      ],
      "metadata": {
        "colab": {
          "base_uri": "https://localhost:8080/",
          "height": 1000
        },
        "id": "34h5xSs-EslE",
        "outputId": "14d5d4b7-8af8-4e33-d702-445c421563f7"
      },
      "execution_count": 7,
      "outputs": [
        {
          "output_type": "stream",
          "name": "stdout",
          "text": [
            "Dataset shape: (716, 106)\n",
            "\n",
            "Label distribution:\n",
            "label\n",
            "Correct      374\n",
            "Incorrect    342\n",
            "Name: count, dtype: int64\n",
            "\n",
            "Label distribution percentage:\n",
            "label\n",
            "Correct      52.234637\n",
            "Incorrect    47.765363\n",
            "Name: proportion, dtype: float64\n",
            "\n",
            "Missing values: 0\n",
            "\n",
            "First 5 rows:\n",
            "         x0        y0        z0        x1        y1        z1        x2  \\\n",
            "0  0.484181  0.183053  0.152699  0.481131  0.172886  0.127482  0.479067   \n",
            "1  0.484495  0.181704  0.157785  0.481586  0.171948  0.133754  0.479480   \n",
            "2  0.482886  0.179269  0.137422  0.480249  0.168619  0.110895  0.478201   \n",
            "3  0.483441  0.177625  0.114625  0.480720  0.165917  0.090284  0.478535   \n",
            "4  0.486376  0.172437  0.101429  0.483831  0.161313  0.077715  0.481575   \n",
            "\n",
            "         y2        z2        x3  ...       x32       y32       z32  \\\n",
            "0  0.173202  0.127488  0.477058  ...  0.521233  0.722890  0.037249   \n",
            "1  0.172338  0.133773  0.477345  ...  0.521264  0.722926  0.038781   \n",
            "2  0.168840  0.110910  0.476079  ...  0.521577  0.718778  0.024202   \n",
            "3  0.166051  0.090293  0.476238  ...  0.521794  0.718173  0.016964   \n",
            "4  0.161332  0.077719  0.479109  ...  0.522131  0.720514  0.007013   \n",
            "\n",
            "   left_arm_angle  right_arm_angle  left_shoulder_elevation  \\\n",
            "0      177.300277       177.199142              -100.792059   \n",
            "1      177.585548       177.751940              -100.452534   \n",
            "2      117.676179       117.318702               -99.797825   \n",
            "3      159.147714       161.395600               -99.350582   \n",
            "4      152.885530       160.466764               -98.911861   \n",
            "\n",
            "   right_shoulder_elevation  arm_symmetry  avg_elevation    label  \n",
            "0                -80.087059      0.101135     -90.439559  Correct  \n",
            "1                -80.227624      0.166392     -90.340079  Correct  \n",
            "2                -81.625284      0.357477     -90.711555  Correct  \n",
            "3                -82.238792      2.247886     -90.794687  Correct  \n",
            "4                -82.577933      7.581234     -90.744897  Correct  \n",
            "\n",
            "[5 rows x 106 columns]\n",
            "\n",
            "Data types:\n",
            "float64    105\n",
            "object       1\n",
            "Name: count, dtype: int64\n",
            "\n",
            "Features shape: (716, 105)\n",
            "Features (first 5 columns): ['x0', 'y0', 'z0', 'x1', 'y1']\n",
            "\n",
            "Non-numeric columns in features: []\n",
            "After selecting numeric columns: (716, 105)\n",
            "\n",
            "Infinite values: 0\n",
            "Very large values (>1e6): 0\n",
            "\n",
            "Label encoding:\n",
            "'Correct' → 0\n",
            "'Incorrect' → 1\n",
            "\n",
            "Encoded label distribution: {0: 374, 1: 342}\n",
            "Class ratio (class 0 / class 1): 1.09\n",
            "\n",
            "Scaled data statistics:\n",
            "Mean: -0.000000\n",
            "Std: 1.000000\n",
            "Min: -4.786243\n",
            "Max: 13.654979\n",
            "\n",
            "Train set size: 572\n",
            "Test set size: 144\n",
            "Train label distribution: [299 273]\n",
            "Test label distribution: [75 69]\n",
            "\n",
            "Training the classifier...\n",
            "\n",
            "Cross-validation scores: [0.80869565 0.8173913  0.79824561 0.85087719 0.80701754]\n",
            "Mean CV accuracy: 0.8164 (+/- 0.0365)\n",
            "\n",
            "Test Accuracy: 0.8472\n",
            "\n",
            "Classification Report:\n",
            "              precision    recall  f1-score   support\n",
            "\n",
            "     Correct       0.88      0.81      0.85        75\n",
            "   Incorrect       0.81      0.88      0.85        69\n",
            "\n",
            "    accuracy                           0.85       144\n",
            "   macro avg       0.85      0.85      0.85       144\n",
            "weighted avg       0.85      0.85      0.85       144\n",
            "\n",
            "\n",
            "Confusion Matrix:\n",
            "[[61 14]\n",
            " [ 8 61]]\n"
          ]
        },
        {
          "output_type": "display_data",
          "data": {
            "text/plain": [
              "<Figure size 800x600 with 2 Axes>"
            ],
            "image/png": "[encoded data removed]"
          },
          "metadata": {}
        },
        {
          "output_type": "display_data",
          "data": {
            "text/plain": [
              "<Figure size 1000x800 with 1 Axes>"
            ],
            "image/png": "[encoded data removed]"
          },
          "metadata": {}
        },
        {
          "output_type": "stream",
          "name": "stdout",
          "text": [
            "\n",
            "Prediction Probability Analysis:\n",
            "Mean probability for class 0: 0.5300\n",
            "Mean probability for class 1: 0.4700\n",
            "Low confidence predictions (prob between 0.4-0.6): 37/144\n",
            "\n",
            "Misclassified samples: 22/144\n",
            "Misclassified sample probabilities:\n",
            "Mean probability of misclassified samples: 0.5324\n",
            "\n",
            "First 5 misclassified samples:\n",
            "Index 0: Actual=Correct, Predicted=Incorrect, Prob=0.6911\n",
            "Index 4: Actual=Incorrect, Predicted=Correct, Prob=0.4426\n",
            "Index 7: Actual=Correct, Predicted=Incorrect, Prob=0.5511\n",
            "Index 9: Actual=Incorrect, Predicted=Correct, Prob=0.4424\n",
            "Index 13: Actual=Incorrect, Predicted=Correct, Prob=0.3963\n",
            "\n",
            "Saving model and scaler...\n",
            "Model saved successfully!\n",
            "\n",
            "==================================================\n",
            "MODEL PERFORMANCE SUMMARY\n",
            "==================================================\n",
            "Test Accuracy: 0.8472\n",
            "Cross-validation Accuracy: 0.8164 (+/- 0.0365)\n",
            "Total samples: 716\n",
            "Features used: 105\n",
            "Class distribution: {'Correct': 374, 'Incorrect': 342}\n",
            "Low confidence predictions: 37/144 (25.7%)\n",
            "==================================================\n"
          ]
        }
      ]
    },
    {
      "cell_type": "markdown",
      "source": [
        "DOWNLOADING THE TRAINED CLASSIFIER"
      ],
      "metadata": {
        "id": "he8cK6HuYTFE"
      }
    },
    {
      "cell_type": "code",
      "source": [
        "from google.colab import files\n",
        "\n",
        "files.download('posture_classifier.pkl')\n",
        "files.download('posture_scaler.pkl')\n",
        "files.download('label_encoder.pkl')"
      ],
      "metadata": {
        "colab": {
          "base_uri": "https://localhost:8080/",
          "height": 17
        },
        "id": "qfGSEtTvIcEj",
        "outputId": "d7fdf55b-50d4-4f72-b3e8-8855416c8dd5"
      },
      "execution_count": 8,
      "outputs": [
        {
          "output_type": "display_data",
          "data": {
            "text/plain": [
              "<IPython.core.display.Javascript object>"
            ],
            "application/javascript": [
              "\n",
              "    async function download(id, filename, size) {\n",
              "      if (!google.colab.kernel.accessAllowed) {\n",
              "        return;\n",
              "      }\n",
              "      const div = document.createElement('div');\n",
              "      const label = document.createElement('label');\n",
              "      label.textContent = `Downloading \"${filename}\": `;\n",
              "      div.appendChild(label);\n",
              "      const progress = document.createElement('progress');\n",
              "      progress.max = size;\n",
              "      div.appendChild(progress);\n",
              "      document.body.appendChild(div);\n",
              "\n",
              "      const buffers = [];\n",
              "      let downloaded = 0;\n",
              "\n",
              "      const channel = await google.colab.kernel.comms.open(id);\n",
              "      // Send a message to notify the kernel that we're ready.\n",
              "      channel.send({})\n",
              "\n",
              "      for await (const message of channel.messages) {\n",
              "        // Send a message to notify the kernel that we're ready.\n",
              "        channel.send({})\n",
              "        if (message.buffers) {\n",
              "          for (const buffer of message.buffers) {\n",
              "            buffers.push(buffer);\n",
              "            downloaded += buffer.byteLength;\n",
              "            progress.value = downloaded;\n",
              "          }\n",
              "        }\n",
              "      }\n",
              "      const blob = new Blob(buffers, {type: 'application/binary'});\n",
              "      const a = document.createElement('a');\n",
              "      a.href = window.URL.createObjectURL(blob);\n",
              "      a.download = filename;\n",
              "      div.appendChild(a);\n",
              "      a.click();\n",
              "      div.remove();\n",
              "    }\n",
              "  "
            ]
          },
          "metadata": {}
        },
        {
          "output_type": "display_data",
          "data": {
            "text/plain": [
              "<IPython.core.display.Javascript object>"
            ],
            "application/javascript": [
              "download(\"download_1be58c21-5b67-411a-8365-1fbc3fc2c86e\", \"posture_classifier.pkl\", 1714265)"
            ]
          },
          "metadata": {}
        },
        {
          "output_type": "display_data",
          "data": {
            "text/plain": [
              "<IPython.core.display.Javascript object>"
            ],
            "application/javascript": [
              "\n",
              "    async function download(id, filename, size) {\n",
              "      if (!google.colab.kernel.accessAllowed) {\n",
              "        return;\n",
              "      }\n",
              "      const div = document.createElement('div');\n",
              "      const label = document.createElement('label');\n",
              "      label.textContent = `Downloading \"${filename}\": `;\n",
              "      div.appendChild(label);\n",
              "      const progress = document.createElement('progress');\n",
              "      progress.max = size;\n",
              "      div.appendChild(progress);\n",
              "      document.body.appendChild(div);\n",
              "\n",
              "      const buffers = [];\n",
              "      let downloaded = 0;\n",
              "\n",
              "      const channel = await google.colab.kernel.comms.open(id);\n",
              "      // Send a message to notify the kernel that we're ready.\n",
              "      channel.send({})\n",
              "\n",
              "      for await (const message of channel.messages) {\n",
              "        // Send a message to notify the kernel that we're ready.\n",
              "        channel.send({})\n",
              "        if (message.buffers) {\n",
              "          for (const buffer of message.buffers) {\n",
              "            buffers.push(buffer);\n",
              "            downloaded += buffer.byteLength;\n",
              "            progress.value = downloaded;\n",
              "          }\n",
              "        }\n",
              "      }\n",
              "      const blob = new Blob(buffers, {type: 'application/binary'});\n",
              "      const a = document.createElement('a');\n",
              "      a.href = window.URL.createObjectURL(blob);\n",
              "      a.download = filename;\n",
              "      div.appendChild(a);\n",
              "      a.click();\n",
              "      div.remove();\n",
              "    }\n",
              "  "
            ]
          },
          "metadata": {}
        },
        {
          "output_type": "display_data",
          "data": {
            "text/plain": [
              "<IPython.core.display.Javascript object>"
            ],
            "application/javascript": [
              "download(\"download_c68260de-a585-4e52-92a4-5ee154e4fc18\", \"posture_scaler.pkl\", 4047)"
            ]
          },
          "metadata": {}
        },
        {
          "output_type": "display_data",
          "data": {
            "text/plain": [
              "<IPython.core.display.Javascript object>"
            ],
            "application/javascript": [
              "\n",
              "    async function download(id, filename, size) {\n",
              "      if (!google.colab.kernel.accessAllowed) {\n",
              "        return;\n",
              "      }\n",
              "      const div = document.createElement('div');\n",
              "      const label = document.createElement('label');\n",
              "      label.textContent = `Downloading \"${filename}\": `;\n",
              "      div.appendChild(label);\n",
              "      const progress = document.createElement('progress');\n",
              "      progress.max = size;\n",
              "      div.appendChild(progress);\n",
              "      document.body.appendChild(div);\n",
              "\n",
              "      const buffers = [];\n",
              "      let downloaded = 0;\n",
              "\n",
              "      const channel = await google.colab.kernel.comms.open(id);\n",
              "      // Send a message to notify the kernel that we're ready.\n",
              "      channel.send({})\n",
              "\n",
              "      for await (const message of channel.messages) {\n",
              "        // Send a message to notify the kernel that we're ready.\n",
              "        channel.send({})\n",
              "        if (message.buffers) {\n",
              "          for (const buffer of message.buffers) {\n",
              "            buffers.push(buffer);\n",
              "            downloaded += buffer.byteLength;\n",
              "            progress.value = downloaded;\n",
              "          }\n",
              "        }\n",
              "      }\n",
              "      const blob = new Blob(buffers, {type: 'application/binary'});\n",
              "      const a = document.createElement('a');\n",
              "      a.href = window.URL.createObjectURL(blob);\n",
              "      a.download = filename;\n",
              "      div.appendChild(a);\n",
              "      a.click();\n",
              "      div.remove();\n",
              "    }\n",
              "  "
            ]
          },
          "metadata": {}
        },
        {
          "output_type": "display_data",
          "data": {
            "text/plain": [
              "<IPython.core.display.Javascript object>"
            ],
            "application/javascript": [
              "download(\"download_1b9dfd7d-e686-47c4-9580-7b74ca231b66\", \"label_encoder.pkl\", 494)"
            ]
          },
          "metadata": {}
        }
      ]
    }
  ]
}